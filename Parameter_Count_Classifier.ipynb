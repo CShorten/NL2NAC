{
  "nbformat": 4,
  "nbformat_minor": 0,
  "metadata": {
    "colab": {
      "name": "Parameter_Count_Classifier.ipynb",
      "provenance": [],
      "collapsed_sections": [],
      "authorship_tag": "ABX9TyO/SPcSrm0eLtUfGsIV4TXj",
      "include_colab_link": true
    },
    "kernelspec": {
      "name": "python3",
      "display_name": "Python 3"
    },
    "language_info": {
      "name": "python"
    }
  },
  "cells": [
    {
      "cell_type": "markdown",
      "metadata": {
        "id": "view-in-github",
        "colab_type": "text"
      },
      "source": [
        "<a href=\"https://colab.research.google.com/github/CShorten/NL2NAC/blob/main/Parameter_Count_Classifier.ipynb\" target=\"_parent\"><img src=\"https://colab.research.google.com/assets/colab-badge.svg\" alt=\"Open In Colab\"/></a>"
      ]
    },
    {
      "cell_type": "code",
      "execution_count": null,
      "metadata": {
        "id": "4vtd1rjjg-fp"
      },
      "outputs": [],
      "source": [
        "!unzip Parameter_Counts.zip\n",
        "!unzip Code_Strings.zip"
      ]
    },
    {
      "cell_type": "code",
      "source": [
        "import pandas as pd\n",
        "df = pd.DataFrame()"
      ],
      "metadata": {
        "id": "YhT15L-RhIw3"
      },
      "execution_count": 3,
      "outputs": []
    },
    {
      "cell_type": "code",
      "source": [
        "test = open(\"./Parameter_Counts/5-512-stride-1-512-stride-2-128-stride-1-1024-stride-2-64-stride-1-2-512-512-.txt\")"
      ],
      "metadata": {
        "id": "cS24tMJEhjAK"
      },
      "execution_count": 4,
      "outputs": []
    },
    {
      "cell_type": "code",
      "source": [
        "content = test.readlines()\n",
        "content"
      ],
      "metadata": {
        "colab": {
          "base_uri": "https://localhost:8080/"
        },
        "id": "FJLz6lPhhyC-",
        "outputId": "e8ee0c5f-361b-40b4-96c7-d83773605dae"
      },
      "execution_count": 5,
      "outputs": [
        {
          "output_type": "execute_result",
          "data": {
            "text/plain": [
              "['Model: \"model_7\"\\n',\n",
              " '_________________________________________________________________\\n',\n",
              " ' Layer (type)                Output Shape              Param #   \\n',\n",
              " '=================================================================\\n',\n",
              " ' input_8 (InputLayer)        [(None, 32, 32, 3)]       0         \\n',\n",
              " '                                                                 \\n',\n",
              " ' conv2d_49 (Conv2D)          (None, 32, 32, 64)        1792      \\n',\n",
              " '                                                                 \\n',\n",
              " ' conv2d_50 (Conv2D)          (None, 30, 30, 512)       295424    \\n',\n",
              " '                                                                 \\n',\n",
              " ' conv2d_51 (Conv2D)          (None, 14, 14, 512)       2359808   \\n',\n",
              " '                                                                 \\n',\n",
              " ' conv2d_52 (Conv2D)          (None, 12, 12, 128)       589952    \\n',\n",
              " '                                                                 \\n',\n",
              " ' conv2d_53 (Conv2D)          (None, 5, 5, 1024)        1180672   \\n',\n",
              " '                                                                 \\n',\n",
              " ' conv2d_54 (Conv2D)          (None, 3, 3, 64)          589888    \\n',\n",
              " '                                                                 \\n',\n",
              " ' flatten_7 (Flatten)         (None, 576)               0         \\n',\n",
              " '                                                                 \\n',\n",
              " ' dense_24 (Dense)            (None, 512)               295424    \\n',\n",
              " '                                                                 \\n',\n",
              " ' dense_25 (Dense)            (None, 512)               262656    \\n',\n",
              " '                                                                 \\n',\n",
              " ' dense_26 (Dense)            (None, 10)                5130      \\n',\n",
              " '                                                                 \\n',\n",
              " '=================================================================\\n',\n",
              " 'Total params: 5,580,746\\n',\n",
              " 'Trainable params: 5,580,746\\n',\n",
              " 'Non-trainable params: 0\\n',\n",
              " '_________________________________________________________________\\n']"
            ]
          },
          "metadata": {},
          "execution_count": 5
        }
      ]
    },
    {
      "cell_type": "code",
      "source": [
        "param_count = content[-4]\n",
        "param_count = param_count.replace(\"Total params: \", \"\")\n",
        "param_count = param_count.replace(\"\\n\", \"\")\n",
        "param_count = param_count.replace(\",\", \"\")\n",
        "param_count"
      ],
      "metadata": {
        "colab": {
          "base_uri": "https://localhost:8080/",
          "height": 35
        },
        "id": "W07wkEE9h1yN",
        "outputId": "502c79b5-dedf-4619-872c-67140ae1732c"
      },
      "execution_count": 10,
      "outputs": [
        {
          "output_type": "execute_result",
          "data": {
            "application/vnd.google.colaboratory.intrinsic+json": {
              "type": "string"
            },
            "text/plain": [
              "'5580746'"
            ]
          },
          "metadata": {},
          "execution_count": 10
        }
      ]
    },
    {
      "cell_type": "code",
      "source": [
        "test = {}\n",
        "\n",
        "test[\"b\"] = [0, \"hello\"]\n",
        "\n",
        "test[\"b\"][0] = 5\n",
        "test"
      ],
      "metadata": {
        "colab": {
          "base_uri": "https://localhost:8080/"
        },
        "id": "Br35iaAPjEsN",
        "outputId": "2e4ca1df-0aaa-44bd-e85d-41d9a7c69eba"
      },
      "execution_count": 15,
      "outputs": [
        {
          "output_type": "execute_result",
          "data": {
            "text/plain": [
              "{'b': [5, 'hello']}"
            ]
          },
          "metadata": {},
          "execution_count": 15
        }
      ]
    },
    {
      "cell_type": "code",
      "source": [
        "import os\n",
        "data_dict = {}\n",
        "\n",
        "for file_name in os.listdir(\"./Parameter_Counts\"):\n",
        "  if \".DS_Store\" not in file_name:\n",
        "    parameter_count_file = open(\"./Parameter_Counts/\"+file_name)\n",
        "    parser = parameter_count_file.readlines()\n",
        "    parser = parser[-4]\n",
        "    parser = parser.replace(\"Total params: \", \"\")\n",
        "    parser = parser.replace(\"\\n\", \"\")\n",
        "    parser = parser.replace(\",\", \"\")\n",
        "    parser = int(parser)\n",
        "    data_dict[file_name] = [0,\"insert code here\"]\n",
        "    data_dict[file_name][0] = parser"
      ],
      "metadata": {
        "id": "Thp6lsSThSDl"
      },
      "execution_count": 17,
      "outputs": []
    },
    {
      "cell_type": "code",
      "source": [
        "for file_name in os.listdir(\"./Code_Strings\"):\n",
        "  if \".DS_Store\" not in file_name:\n",
        "    code_string_file = open(\"./Code_Strings/\"+file_name)\n",
        "    str_parser = code_string_file.readlines()\n",
        "    content = \"\"\n",
        "    for line in str_parser:\n",
        "      content += line\n",
        "      content += \" \"\n",
        "    data_dict[file_name][1] = content"
      ],
      "metadata": {
        "id": "33uVDE_RjUdH"
      },
      "execution_count": 19,
      "outputs": []
    },
    {
      "cell_type": "code",
      "source": [
        "architecture_codes = []\n",
        "labels = []\n",
        "for key in data_dict.keys():\n",
        "  labels.append(data_dict[key][0])\n",
        "  architecture_codes.append(data_dict[key][1])"
      ],
      "metadata": {
        "id": "A76ZEXxpjXvy"
      },
      "execution_count": 22,
      "outputs": []
    },
    {
      "cell_type": "code",
      "source": [
        "import matplotlib.pyplot as plt\n",
        "\n",
        "plt.hist(labels);"
      ],
      "metadata": {
        "colab": {
          "base_uri": "https://localhost:8080/",
          "height": 278
        },
        "id": "4Ozim5-ljz2O",
        "outputId": "616b5f51-6e1a-4985-eeba-f8fcfe55c7f2"
      },
      "execution_count": 24,
      "outputs": [
        {
          "output_type": "display_data",
          "data": {
            "image/png": "[encoded data removed]",
            "text/plain": [
              "<Figure size 432x288 with 1 Axes>"
            ]
          },
          "metadata": {
            "needs_background": "light"
          }
        }
      ]
    },
    {
      "cell_type": "code",
      "source": [
        "from numpy import median\n",
        "\n",
        "median(labels)"
      ],
      "metadata": {
        "colab": {
          "base_uri": "https://localhost:8080/"
        },
        "id": "Cxwc3HdVkXB6",
        "outputId": "0683570e-81e2-4e72-9cab-ee54f31acac5"
      },
      "execution_count": 29,
      "outputs": [
        {
          "output_type": "execute_result",
          "data": {
            "text/plain": [
              "18784074.0"
            ]
          },
          "metadata": {},
          "execution_count": 29
        }
      ]
    },
    {
      "cell_type": "code",
      "source": [
        "binary_labels = []\n",
        "\n",
        "for label in labels:\n",
        "  if label < 18_000_000:\n",
        "    binary_labels.append(0)\n",
        "  else:\n",
        "    binary_labels.append(1)\n",
        "\n",
        "plt.hist(binary_labels);"
      ],
      "metadata": {
        "colab": {
          "base_uri": "https://localhost:8080/",
          "height": 265
        },
        "id": "6IetbibwkcvQ",
        "outputId": "57613cc2-d0f2-4f95-c046-73a4c70d91f3"
      },
      "execution_count": 30,
      "outputs": [
        {
          "output_type": "display_data",
          "data": {
            "image/png": "[encoded data removed]",
            "text/plain": [
              "<Figure size 432x288 with 1 Axes>"
            ]
          },
          "metadata": {
            "needs_background": "light"
          }
        }
      ]
    },
    {
      "cell_type": "code",
      "source": [
        "len(architecture_codes[0])"
      ],
      "metadata": {
        "colab": {
          "base_uri": "https://localhost:8080/"
        },
        "id": "-ek-5xgvkzeI",
        "outputId": "8bf330d0-e77d-4fb6-9f9d-c0b46def456c"
      },
      "execution_count": 31,
      "outputs": [
        {
          "output_type": "execute_result",
          "data": {
            "text/plain": [
              "773"
            ]
          },
          "metadata": {},
          "execution_count": 31
        }
      ]
    },
    {
      "cell_type": "code",
      "source": [
        "import nltk\n",
        "from nltk.tokenize import word_tokenize\n",
        "nltk.download('punkt')\n",
        "len(word_tokenize(architecture_codes[0]))"
      ],
      "metadata": {
        "colab": {
          "base_uri": "https://localhost:8080/"
        },
        "id": "Wi4bGnn4k5SV",
        "outputId": "023a8055-fac0-4387-d867-c2557a253fc1"
      },
      "execution_count": 35,
      "outputs": [
        {
          "output_type": "stream",
          "name": "stdout",
          "text": [
            "[nltk_data] Downloading package punkt to /root/nltk_data...\n",
            "[nltk_data]   Package punkt is already up-to-date!\n"
          ]
        },
        {
          "output_type": "execute_result",
          "data": {
            "text/plain": [
              "193"
            ]
          },
          "metadata": {},
          "execution_count": 35
        }
      ]
    },
    {
      "cell_type": "code",
      "source": [
        "tokenized_descriptions = []\n",
        "\n",
        "for description in architecture_codes:\n",
        "  tokenized_descriptions.append(word_tokenize(description))\n",
        "\n",
        "token2idx = {}\n",
        "counter = 1\n",
        "for tokenized_description in tokenized_descriptions:\n",
        "  for token in tokenized_description:\n",
        "    if token not in token2idx.keys():\n",
        "      # add not in stop_words here for the future\n",
        "      token2idx[token] = counter\n",
        "      counter += 1\n",
        "\n",
        "# token dictionary token2idx[\"hello\"] = 5\n",
        "# that index tells us where to put the count in the sparse vector\n",
        "\n",
        "# get counts\n",
        "tf_vectors = []\n",
        "for tokenized_description in tokenized_descriptions:\n",
        "  new_count_dict = {}\n",
        "  for token in tokenized_description:\n",
        "    if token in new_count_dict.keys():\n",
        "      new_count_dict[token] += 1\n",
        "    else:\n",
        "      new_count_dict[token] = 1\n",
        "    new_vector = [0] * (len(token2idx.keys()) + 1)\n",
        "    for token in new_count_dict.keys():\n",
        "      # stop_words filter\n",
        "      new_vector[token2idx[token]] = new_count_dict[token]\n",
        "  tf_vectors.append(new_vector)"
      ],
      "metadata": {
        "id": "NQW-q0LjlR3K"
      },
      "execution_count": 37,
      "outputs": []
    },
    {
      "cell_type": "code",
      "source": [
        "len(tf_vectors[2])"
      ],
      "metadata": {
        "colab": {
          "base_uri": "https://localhost:8080/"
        },
        "id": "OPDSpgZclirI",
        "outputId": "f56f3dcd-8f00-4084-c3a2-a2f0c0fedc88"
      },
      "execution_count": 41,
      "outputs": [
        {
          "output_type": "execute_result",
          "data": {
            "text/plain": [
              "37"
            ]
          },
          "metadata": {},
          "execution_count": 41
        }
      ]
    },
    {
      "cell_type": "code",
      "source": [
        "from sklearn.model_selection import train_test_split\n",
        "X_train, X_test, y_train, y_test = train_test_split(tf_vectors, binary_labels, test_size=0.2, random_state=42)"
      ],
      "metadata": {
        "id": "ar3Rp4OwlohX"
      },
      "execution_count": 42,
      "outputs": []
    },
    {
      "cell_type": "code",
      "source": [
        "from sklearn.linear_model import LogisticRegression\n",
        "clf = LogisticRegression(random_state=0)\n",
        "clf.fit(X_train, y_train)"
      ],
      "metadata": {
        "colab": {
          "base_uri": "https://localhost:8080/"
        },
        "id": "roAUlFWLl5ba",
        "outputId": "6610847a-3fd8-43d4-c284-86c5619d6e19"
      },
      "execution_count": 44,
      "outputs": [
        {
          "output_type": "stream",
          "name": "stderr",
          "text": [
            "/usr/local/lib/python3.7/dist-packages/sklearn/linear_model/_logistic.py:818: ConvergenceWarning: lbfgs failed to converge (status=1):\n",
            "STOP: TOTAL NO. of ITERATIONS REACHED LIMIT.\n",
            "\n",
            "Increase the number of iterations (max_iter) or scale the data as shown in:\n",
            "    https://scikit-learn.org/stable/modules/preprocessing.html\n",
            "Please also refer to the documentation for alternative solver options:\n",
            "    https://scikit-learn.org/stable/modules/linear_model.html#logistic-regression\n",
            "  extra_warning_msg=_LOGISTIC_SOLVER_CONVERGENCE_MSG,\n"
          ]
        },
        {
          "output_type": "execute_result",
          "data": {
            "text/plain": [
              "LogisticRegression(random_state=0)"
            ]
          },
          "metadata": {},
          "execution_count": 44
        }
      ]
    },
    {
      "cell_type": "code",
      "source": [
        "train_preds = clf.predict(X_train)\n",
        "test_preds = clf.predict(X_test)\n",
        "\n",
        "from sklearn.metrics import accuracy_score\n",
        "\n",
        "print(accuracy_score(train_preds, y_train))\n",
        "\n",
        "print(accuracy_score(test_preds, y_test))"
      ],
      "metadata": {
        "colab": {
          "base_uri": "https://localhost:8080/"
        },
        "id": "4s_1ejw8l7Hk",
        "outputId": "1a0d8826-f839-4b5a-e305-211efffedf4c"
      },
      "execution_count": 45,
      "outputs": [
        {
          "output_type": "stream",
          "name": "stdout",
          "text": [
            "0.8875\n",
            "0.7\n"
          ]
        }
      ]
    },
    {
      "cell_type": "code",
      "source": [
        "from sklearn.tree import DecisionTreeClassifier\n",
        "\n",
        "dtree = DecisionTreeClassifier(max_depth=8, random_state=0)\n",
        "\n",
        "dtree.fit(X_train, y_train)"
      ],
      "metadata": {
        "colab": {
          "base_uri": "https://localhost:8080/"
        },
        "id": "1cN2pqzYmLoS",
        "outputId": "0545517a-2d37-4ab1-e91e-a51ea6130cca"
      },
      "execution_count": 52,
      "outputs": [
        {
          "output_type": "execute_result",
          "data": {
            "text/plain": [
              "DecisionTreeClassifier(max_depth=8, random_state=0)"
            ]
          },
          "metadata": {},
          "execution_count": 52
        }
      ]
    },
    {
      "cell_type": "code",
      "source": [
        "dtree_train_preds = dtree.predict(X_train)\n",
        "dtree_test_preds = dtree.predict(X_test)\n",
        "\n",
        "print(accuracy_score(dtree_train_preds, y_train))\n",
        "print(accuracy_score(dtree_test_preds, y_test))"
      ],
      "metadata": {
        "colab": {
          "base_uri": "https://localhost:8080/"
        },
        "id": "x6Lhc5kumR_h",
        "outputId": "43502b85-a030-47cb-fe1e-93a76f023451"
      },
      "execution_count": 53,
      "outputs": [
        {
          "output_type": "stream",
          "name": "stdout",
          "text": [
            "1.0\n",
            "0.65\n"
          ]
        }
      ]
    },
    {
      "cell_type": "code",
      "source": [
        "import tensorflow as tf\n",
        "import keras\n",
        "\n",
        "input = keras.layers.Input(shape=(37,))\n",
        "x = keras.layers.Dense(512, activation=\"relu\")(input)\n",
        "x = keras.layers.Dense(1024, activation=\"relu\")(x)\n",
        "x = keras.layers.Dense(512, activation=\"relu\")(x)\n",
        "output = keras.layers.Dense(1, activation=\"sigmoid\")(x)\n",
        "\n",
        "model = tf.keras.Model(inputs = input, outputs = output)\n",
        "opt = tf.keras.optimizers.Adam(learning_rate=1e-3)\n",
        "model.compile(loss=\"BinaryCrossentropy\", metrics = \"accuracy\", optimizer=opt)"
      ],
      "metadata": {
        "id": "Wih1D8WImZkI"
      },
      "execution_count": 54,
      "outputs": []
    },
    {
      "cell_type": "code",
      "source": [
        "history = model.fit(X_train, y_train, batch_size=64, epochs=200, validation_data=(X_test, y_test))"
      ],
      "metadata": {
        "colab": {
          "base_uri": "https://localhost:8080/"
        },
        "id": "SwHgl45Im-c1",
        "outputId": "d4e588f2-7526-41c4-b2b0-b16aa21330c3"
      },
      "execution_count": 55,
      "outputs": [
        {
          "output_type": "stream",
          "name": "stdout",
          "text": [
            "Epoch 1/200\n",
            "2/2 [==============================] - 2s 738ms/step - loss: 2.3438 - accuracy: 0.4750 - val_loss: 8.0848 - val_accuracy: 0.2000\n",
            "Epoch 2/200\n",
            "2/2 [==============================] - 0s 45ms/step - loss: 3.6436 - accuracy: 0.5625 - val_loss: 1.0669 - val_accuracy: 0.8000\n",
            "Epoch 3/200\n",
            "2/2 [==============================] - 0s 49ms/step - loss: 2.8582 - accuracy: 0.4375 - val_loss: 0.5221 - val_accuracy: 0.8000\n",
            "Epoch 4/200\n",
            "2/2 [==============================] - 0s 59ms/step - loss: 0.7270 - accuracy: 0.5625 - val_loss: 3.2477 - val_accuracy: 0.2000\n",
            "Epoch 5/200\n",
            "2/2 [==============================] - 0s 47ms/step - loss: 1.8247 - accuracy: 0.5625 - val_loss: 2.1820 - val_accuracy: 0.2000\n",
            "Epoch 6/200\n",
            "2/2 [==============================] - 0s 46ms/step - loss: 1.1443 - accuracy: 0.5625 - val_loss: 0.5311 - val_accuracy: 0.8000\n",
            "Epoch 7/200\n",
            "2/2 [==============================] - 0s 47ms/step - loss: 0.8543 - accuracy: 0.4375 - val_loss: 0.5050 - val_accuracy: 0.8000\n",
            "Epoch 8/200\n",
            "2/2 [==============================] - 0s 54ms/step - loss: 0.9609 - accuracy: 0.4375 - val_loss: 0.7395 - val_accuracy: 0.2000\n",
            "Epoch 9/200\n",
            "2/2 [==============================] - 0s 45ms/step - loss: 0.6679 - accuracy: 0.5625 - val_loss: 1.3713 - val_accuracy: 0.2000\n",
            "Epoch 10/200\n",
            "2/2 [==============================] - 0s 46ms/step - loss: 0.8457 - accuracy: 0.5625 - val_loss: 1.2800 - val_accuracy: 0.2000\n",
            "Epoch 11/200\n",
            "2/2 [==============================] - 0s 54ms/step - loss: 0.7743 - accuracy: 0.5625 - val_loss: 0.7906 - val_accuracy: 0.2000\n",
            "Epoch 12/200\n",
            "2/2 [==============================] - 0s 63ms/step - loss: 0.6780 - accuracy: 0.5125 - val_loss: 0.5524 - val_accuracy: 0.8000\n",
            "Epoch 13/200\n",
            "2/2 [==============================] - 0s 47ms/step - loss: 0.7527 - accuracy: 0.4375 - val_loss: 0.5568 - val_accuracy: 0.8000\n",
            "Epoch 14/200\n",
            "2/2 [==============================] - 0s 48ms/step - loss: 0.7436 - accuracy: 0.4375 - val_loss: 0.6501 - val_accuracy: 0.7000\n",
            "Epoch 15/200\n",
            "2/2 [==============================] - 0s 48ms/step - loss: 0.6776 - accuracy: 0.5500 - val_loss: 0.7888 - val_accuracy: 0.2000\n",
            "Epoch 16/200\n",
            "2/2 [==============================] - 0s 45ms/step - loss: 0.6588 - accuracy: 0.5625 - val_loss: 0.8448 - val_accuracy: 0.2000\n",
            "Epoch 17/200\n",
            "2/2 [==============================] - 0s 52ms/step - loss: 0.6628 - accuracy: 0.5625 - val_loss: 0.7797 - val_accuracy: 0.2000\n",
            "Epoch 18/200\n",
            "2/2 [==============================] - 0s 48ms/step - loss: 0.6532 - accuracy: 0.5875 - val_loss: 0.6828 - val_accuracy: 0.7000\n",
            "Epoch 19/200\n",
            "2/2 [==============================] - 0s 48ms/step - loss: 0.6531 - accuracy: 0.7875 - val_loss: 0.6489 - val_accuracy: 0.7500\n",
            "Epoch 20/200\n",
            "2/2 [==============================] - 0s 48ms/step - loss: 0.6570 - accuracy: 0.8000 - val_loss: 0.6479 - val_accuracy: 0.7500\n",
            "Epoch 21/200\n",
            "2/2 [==============================] - 0s 46ms/step - loss: 0.6495 - accuracy: 0.8250 - val_loss: 0.7179 - val_accuracy: 0.4000\n",
            "Epoch 22/200\n",
            "2/2 [==============================] - 0s 49ms/step - loss: 0.6309 - accuracy: 0.6375 - val_loss: 0.8742 - val_accuracy: 0.2000\n",
            "Epoch 23/200\n",
            "2/2 [==============================] - 0s 50ms/step - loss: 0.6566 - accuracy: 0.5625 - val_loss: 0.9363 - val_accuracy: 0.2000\n",
            "Epoch 24/200\n",
            "2/2 [==============================] - 0s 46ms/step - loss: 0.6524 - accuracy: 0.5625 - val_loss: 0.7062 - val_accuracy: 0.4500\n",
            "Epoch 25/200\n",
            "2/2 [==============================] - 0s 54ms/step - loss: 0.6242 - accuracy: 0.6875 - val_loss: 0.5494 - val_accuracy: 0.8000\n",
            "Epoch 26/200\n",
            "2/2 [==============================] - 0s 46ms/step - loss: 0.6770 - accuracy: 0.4500 - val_loss: 0.5776 - val_accuracy: 0.7500\n",
            "Epoch 27/200\n",
            "2/2 [==============================] - 0s 48ms/step - loss: 0.6395 - accuracy: 0.6375 - val_loss: 0.7499 - val_accuracy: 0.4000\n",
            "Epoch 28/200\n",
            "2/2 [==============================] - 0s 49ms/step - loss: 0.6038 - accuracy: 0.6250 - val_loss: 0.8977 - val_accuracy: 0.2000\n",
            "Epoch 29/200\n",
            "2/2 [==============================] - 0s 48ms/step - loss: 0.6313 - accuracy: 0.5625 - val_loss: 0.8809 - val_accuracy: 0.2500\n",
            "Epoch 30/200\n",
            "2/2 [==============================] - 0s 46ms/step - loss: 0.6134 - accuracy: 0.5875 - val_loss: 0.6836 - val_accuracy: 0.7000\n",
            "Epoch 31/200\n",
            "2/2 [==============================] - 0s 66ms/step - loss: 0.5775 - accuracy: 0.7875 - val_loss: 0.5373 - val_accuracy: 0.7500\n",
            "Epoch 32/200\n",
            "2/2 [==============================] - 0s 48ms/step - loss: 0.6250 - accuracy: 0.6250 - val_loss: 0.5560 - val_accuracy: 0.7500\n",
            "Epoch 33/200\n",
            "2/2 [==============================] - 0s 50ms/step - loss: 0.5833 - accuracy: 0.8125 - val_loss: 0.7920 - val_accuracy: 0.4500\n",
            "Epoch 34/200\n",
            "2/2 [==============================] - 0s 51ms/step - loss: 0.5768 - accuracy: 0.6375 - val_loss: 0.9361 - val_accuracy: 0.3000\n",
            "Epoch 35/200\n",
            "2/2 [==============================] - 0s 55ms/step - loss: 0.6036 - accuracy: 0.6125 - val_loss: 0.6625 - val_accuracy: 0.7000\n",
            "Epoch 36/200\n",
            "2/2 [==============================] - 0s 53ms/step - loss: 0.5548 - accuracy: 0.7625 - val_loss: 0.5520 - val_accuracy: 0.7500\n",
            "Epoch 37/200\n",
            "2/2 [==============================] - 0s 47ms/step - loss: 0.5360 - accuracy: 0.8375 - val_loss: 0.7195 - val_accuracy: 0.5000\n",
            "Epoch 38/200\n",
            "2/2 [==============================] - 0s 48ms/step - loss: 0.5249 - accuracy: 0.6750 - val_loss: 0.7697 - val_accuracy: 0.5000\n",
            "Epoch 39/200\n",
            "2/2 [==============================] - 0s 57ms/step - loss: 0.5121 - accuracy: 0.6625 - val_loss: 0.5391 - val_accuracy: 0.7500\n",
            "Epoch 40/200\n",
            "2/2 [==============================] - 0s 56ms/step - loss: 0.5099 - accuracy: 0.8750 - val_loss: 0.5392 - val_accuracy: 0.7500\n",
            "Epoch 41/200\n",
            "2/2 [==============================] - 0s 51ms/step - loss: 0.4725 - accuracy: 0.8500 - val_loss: 0.8831 - val_accuracy: 0.4500\n",
            "Epoch 42/200\n",
            "2/2 [==============================] - 0s 47ms/step - loss: 0.5310 - accuracy: 0.6500 - val_loss: 0.7129 - val_accuracy: 0.6500\n",
            "Epoch 43/200\n",
            "2/2 [==============================] - 0s 56ms/step - loss: 0.4613 - accuracy: 0.8000 - val_loss: 0.4849 - val_accuracy: 0.7500\n",
            "Epoch 44/200\n",
            "2/2 [==============================] - 0s 50ms/step - loss: 0.4907 - accuracy: 0.8000 - val_loss: 0.6508 - val_accuracy: 0.8000\n",
            "Epoch 45/200\n",
            "2/2 [==============================] - 0s 46ms/step - loss: 0.4419 - accuracy: 0.8000 - val_loss: 0.6998 - val_accuracy: 0.7500\n",
            "Epoch 46/200\n",
            "2/2 [==============================] - 0s 48ms/step - loss: 0.4185 - accuracy: 0.8125 - val_loss: 0.5082 - val_accuracy: 0.7500\n",
            "Epoch 47/200\n",
            "2/2 [==============================] - 0s 51ms/step - loss: 0.4330 - accuracy: 0.8500 - val_loss: 0.5872 - val_accuracy: 0.7500\n",
            "Epoch 48/200\n",
            "2/2 [==============================] - 0s 50ms/step - loss: 0.3912 - accuracy: 0.8625 - val_loss: 0.6188 - val_accuracy: 0.7500\n",
            "Epoch 49/200\n",
            "2/2 [==============================] - 0s 55ms/step - loss: 0.3824 - accuracy: 0.8750 - val_loss: 0.6280 - val_accuracy: 0.7500\n",
            "Epoch 50/200\n",
            "2/2 [==============================] - 0s 48ms/step - loss: 0.3652 - accuracy: 0.8500 - val_loss: 0.6797 - val_accuracy: 0.8000\n",
            "Epoch 51/200\n",
            "2/2 [==============================] - 0s 48ms/step - loss: 0.3571 - accuracy: 0.8500 - val_loss: 0.5657 - val_accuracy: 0.7500\n",
            "Epoch 52/200\n",
            "2/2 [==============================] - 0s 47ms/step - loss: 0.3543 - accuracy: 0.8500 - val_loss: 0.6892 - val_accuracy: 0.7500\n",
            "Epoch 53/200\n",
            "2/2 [==============================] - 0s 50ms/step - loss: 0.3457 - accuracy: 0.8500 - val_loss: 0.6033 - val_accuracy: 0.7500\n",
            "Epoch 54/200\n",
            "2/2 [==============================] - 0s 48ms/step - loss: 0.3385 - accuracy: 0.8500 - val_loss: 0.6146 - val_accuracy: 0.7500\n",
            "Epoch 55/200\n",
            "2/2 [==============================] - 0s 54ms/step - loss: 0.3133 - accuracy: 0.8625 - val_loss: 1.0328 - val_accuracy: 0.5500\n",
            "Epoch 56/200\n",
            "2/2 [==============================] - 0s 48ms/step - loss: 0.4612 - accuracy: 0.7250 - val_loss: 0.5556 - val_accuracy: 0.7500\n",
            "Epoch 57/200\n",
            "2/2 [==============================] - 0s 47ms/step - loss: 0.5942 - accuracy: 0.7625 - val_loss: 0.5514 - val_accuracy: 0.7500\n",
            "Epoch 58/200\n",
            "2/2 [==============================] - 0s 50ms/step - loss: 0.5334 - accuracy: 0.7500 - val_loss: 1.3274 - val_accuracy: 0.4000\n",
            "Epoch 59/200\n",
            "2/2 [==============================] - 0s 48ms/step - loss: 0.6330 - accuracy: 0.6875 - val_loss: 0.9635 - val_accuracy: 0.6000\n",
            "Epoch 60/200\n",
            "2/2 [==============================] - 0s 49ms/step - loss: 0.4345 - accuracy: 0.7500 - val_loss: 0.5596 - val_accuracy: 0.7500\n",
            "Epoch 61/200\n",
            "2/2 [==============================] - 0s 47ms/step - loss: 0.3894 - accuracy: 0.8500 - val_loss: 0.6266 - val_accuracy: 0.7500\n",
            "Epoch 62/200\n",
            "2/2 [==============================] - 0s 51ms/step - loss: 0.3213 - accuracy: 0.8375 - val_loss: 0.9042 - val_accuracy: 0.6000\n",
            "Epoch 63/200\n",
            "2/2 [==============================] - 0s 48ms/step - loss: 0.3926 - accuracy: 0.7625 - val_loss: 0.7897 - val_accuracy: 0.7500\n",
            "Epoch 64/200\n",
            "2/2 [==============================] - 0s 48ms/step - loss: 0.3354 - accuracy: 0.8500 - val_loss: 0.6224 - val_accuracy: 0.7500\n",
            "Epoch 65/200\n",
            "2/2 [==============================] - 0s 50ms/step - loss: 0.3234 - accuracy: 0.8875 - val_loss: 0.6430 - val_accuracy: 0.7500\n",
            "Epoch 66/200\n",
            "2/2 [==============================] - 0s 49ms/step - loss: 0.3124 - accuracy: 0.8875 - val_loss: 0.7483 - val_accuracy: 0.7500\n",
            "Epoch 67/200\n",
            "2/2 [==============================] - 0s 50ms/step - loss: 0.3030 - accuracy: 0.8750 - val_loss: 0.7389 - val_accuracy: 0.7500\n",
            "Epoch 68/200\n",
            "2/2 [==============================] - 0s 52ms/step - loss: 0.3033 - accuracy: 0.8750 - val_loss: 0.7419 - val_accuracy: 0.7500\n",
            "Epoch 69/200\n",
            "2/2 [==============================] - 0s 51ms/step - loss: 0.2911 - accuracy: 0.8750 - val_loss: 0.7937 - val_accuracy: 0.7500\n",
            "Epoch 70/200\n",
            "2/2 [==============================] - 0s 49ms/step - loss: 0.2893 - accuracy: 0.8625 - val_loss: 0.6944 - val_accuracy: 0.7500\n",
            "Epoch 71/200\n",
            "2/2 [==============================] - 0s 52ms/step - loss: 0.3077 - accuracy: 0.9000 - val_loss: 0.7248 - val_accuracy: 0.7500\n",
            "Epoch 72/200\n",
            "2/2 [==============================] - 0s 52ms/step - loss: 0.2860 - accuracy: 0.9000 - val_loss: 0.9372 - val_accuracy: 0.6500\n",
            "Epoch 73/200\n",
            "2/2 [==============================] - 0s 47ms/step - loss: 0.3198 - accuracy: 0.8250 - val_loss: 0.8130 - val_accuracy: 0.7500\n",
            "Epoch 74/200\n",
            "2/2 [==============================] - 0s 49ms/step - loss: 0.2700 - accuracy: 0.8625 - val_loss: 0.7069 - val_accuracy: 0.7500\n",
            "Epoch 75/200\n",
            "2/2 [==============================] - 0s 50ms/step - loss: 0.3332 - accuracy: 0.8625 - val_loss: 0.8996 - val_accuracy: 0.7500\n",
            "Epoch 76/200\n",
            "2/2 [==============================] - 0s 51ms/step - loss: 0.3113 - accuracy: 0.8375 - val_loss: 0.9999 - val_accuracy: 0.6000\n",
            "Epoch 77/200\n",
            "2/2 [==============================] - 0s 49ms/step - loss: 0.3134 - accuracy: 0.8500 - val_loss: 0.7376 - val_accuracy: 0.7500\n",
            "Epoch 78/200\n",
            "2/2 [==============================] - 0s 47ms/step - loss: 0.3307 - accuracy: 0.8750 - val_loss: 0.8466 - val_accuracy: 0.7500\n",
            "Epoch 79/200\n",
            "2/2 [==============================] - 0s 50ms/step - loss: 0.2867 - accuracy: 0.8625 - val_loss: 1.0056 - val_accuracy: 0.6000\n",
            "Epoch 80/200\n",
            "2/2 [==============================] - 0s 55ms/step - loss: 0.2989 - accuracy: 0.8375 - val_loss: 0.7683 - val_accuracy: 0.7500\n",
            "Epoch 81/200\n",
            "2/2 [==============================] - 0s 46ms/step - loss: 0.3106 - accuracy: 0.9000 - val_loss: 0.7789 - val_accuracy: 0.7500\n",
            "Epoch 82/200\n",
            "2/2 [==============================] - 0s 47ms/step - loss: 0.2886 - accuracy: 0.9125 - val_loss: 1.0347 - val_accuracy: 0.6000\n",
            "Epoch 83/200\n",
            "2/2 [==============================] - 0s 48ms/step - loss: 0.3258 - accuracy: 0.8375 - val_loss: 0.8671 - val_accuracy: 0.7500\n",
            "Epoch 84/200\n",
            "2/2 [==============================] - 0s 48ms/step - loss: 0.2768 - accuracy: 0.8625 - val_loss: 0.7377 - val_accuracy: 0.7500\n",
            "Epoch 85/200\n",
            "2/2 [==============================] - 0s 61ms/step - loss: 0.3475 - accuracy: 0.8500 - val_loss: 0.8917 - val_accuracy: 0.7500\n",
            "Epoch 86/200\n",
            "2/2 [==============================] - 0s 54ms/step - loss: 0.2612 - accuracy: 0.9000 - val_loss: 0.9231 - val_accuracy: 0.7500\n",
            "Epoch 87/200\n",
            "2/2 [==============================] - 0s 56ms/step - loss: 0.2529 - accuracy: 0.9000 - val_loss: 0.8417 - val_accuracy: 0.7500\n",
            "Epoch 88/200\n",
            "2/2 [==============================] - 0s 59ms/step - loss: 0.2648 - accuracy: 0.8875 - val_loss: 0.8412 - val_accuracy: 0.7500\n",
            "Epoch 89/200\n",
            "2/2 [==============================] - 0s 59ms/step - loss: 0.2636 - accuracy: 0.9000 - val_loss: 0.9533 - val_accuracy: 0.7500\n",
            "Epoch 90/200\n",
            "2/2 [==============================] - 0s 48ms/step - loss: 0.2556 - accuracy: 0.8875 - val_loss: 1.0011 - val_accuracy: 0.6500\n",
            "Epoch 91/200\n",
            "2/2 [==============================] - 0s 51ms/step - loss: 0.2738 - accuracy: 0.8625 - val_loss: 0.9263 - val_accuracy: 0.7500\n",
            "Epoch 92/200\n",
            "2/2 [==============================] - 0s 49ms/step - loss: 0.2476 - accuracy: 0.8625 - val_loss: 0.9265 - val_accuracy: 0.7500\n",
            "Epoch 93/200\n",
            "2/2 [==============================] - 0s 51ms/step - loss: 0.2484 - accuracy: 0.8625 - val_loss: 0.9620 - val_accuracy: 0.7500\n",
            "Epoch 94/200\n",
            "2/2 [==============================] - 0s 49ms/step - loss: 0.2467 - accuracy: 0.9000 - val_loss: 1.0040 - val_accuracy: 0.7000\n",
            "Epoch 95/200\n",
            "2/2 [==============================] - 0s 53ms/step - loss: 0.2586 - accuracy: 0.8875 - val_loss: 0.9856 - val_accuracy: 0.7000\n",
            "Epoch 96/200\n",
            "2/2 [==============================] - 0s 56ms/step - loss: 0.2431 - accuracy: 0.8875 - val_loss: 1.0175 - val_accuracy: 0.7000\n",
            "Epoch 97/200\n",
            "2/2 [==============================] - 0s 48ms/step - loss: 0.2460 - accuracy: 0.8875 - val_loss: 0.9588 - val_accuracy: 0.7500\n",
            "Epoch 98/200\n",
            "2/2 [==============================] - 0s 48ms/step - loss: 0.2405 - accuracy: 0.8625 - val_loss: 0.9811 - val_accuracy: 0.7500\n",
            "Epoch 99/200\n",
            "2/2 [==============================] - 0s 53ms/step - loss: 0.2372 - accuracy: 0.8750 - val_loss: 1.0368 - val_accuracy: 0.7000\n",
            "Epoch 100/200\n",
            "2/2 [==============================] - 0s 53ms/step - loss: 0.2411 - accuracy: 0.8875 - val_loss: 1.0332 - val_accuracy: 0.7000\n",
            "Epoch 101/200\n",
            "2/2 [==============================] - 0s 48ms/step - loss: 0.2350 - accuracy: 0.8875 - val_loss: 1.0332 - val_accuracy: 0.7000\n",
            "Epoch 102/200\n",
            "2/2 [==============================] - 0s 48ms/step - loss: 0.2327 - accuracy: 0.8875 - val_loss: 1.0164 - val_accuracy: 0.7000\n",
            "Epoch 103/200\n",
            "2/2 [==============================] - 0s 47ms/step - loss: 0.2351 - accuracy: 0.8625 - val_loss: 1.1432 - val_accuracy: 0.6500\n",
            "Epoch 104/200\n",
            "2/2 [==============================] - 0s 51ms/step - loss: 0.2454 - accuracy: 0.9000 - val_loss: 1.2475 - val_accuracy: 0.6000\n",
            "Epoch 105/200\n",
            "2/2 [==============================] - 0s 49ms/step - loss: 0.2800 - accuracy: 0.8750 - val_loss: 1.0313 - val_accuracy: 0.7000\n",
            "Epoch 106/200\n",
            "2/2 [==============================] - 0s 51ms/step - loss: 0.2363 - accuracy: 0.9000 - val_loss: 0.9898 - val_accuracy: 0.7500\n",
            "Epoch 107/200\n",
            "2/2 [==============================] - 0s 49ms/step - loss: 0.2542 - accuracy: 0.8750 - val_loss: 1.1108 - val_accuracy: 0.7000\n",
            "Epoch 108/200\n",
            "2/2 [==============================] - 0s 58ms/step - loss: 0.2266 - accuracy: 0.8750 - val_loss: 1.0933 - val_accuracy: 0.7000\n",
            "Epoch 109/200\n",
            "2/2 [==============================] - 0s 52ms/step - loss: 0.2284 - accuracy: 0.9000 - val_loss: 1.0732 - val_accuracy: 0.7000\n",
            "Epoch 110/200\n",
            "2/2 [==============================] - 0s 51ms/step - loss: 0.2312 - accuracy: 0.8875 - val_loss: 1.1062 - val_accuracy: 0.7000\n",
            "Epoch 111/200\n",
            "2/2 [==============================] - 0s 48ms/step - loss: 0.2313 - accuracy: 0.9000 - val_loss: 1.1448 - val_accuracy: 0.7000\n",
            "Epoch 112/200\n",
            "2/2 [==============================] - 0s 53ms/step - loss: 0.2226 - accuracy: 0.9000 - val_loss: 1.0817 - val_accuracy: 0.7500\n",
            "Epoch 113/200\n",
            "2/2 [==============================] - 0s 47ms/step - loss: 0.2369 - accuracy: 0.8750 - val_loss: 1.2094 - val_accuracy: 0.7000\n",
            "Epoch 114/200\n",
            "2/2 [==============================] - 0s 49ms/step - loss: 0.2240 - accuracy: 0.8875 - val_loss: 1.2872 - val_accuracy: 0.6500\n",
            "Epoch 115/200\n",
            "2/2 [==============================] - 0s 47ms/step - loss: 0.2323 - accuracy: 0.8750 - val_loss: 1.1293 - val_accuracy: 0.7000\n",
            "Epoch 116/200\n",
            "2/2 [==============================] - 0s 49ms/step - loss: 0.2326 - accuracy: 0.8875 - val_loss: 1.0851 - val_accuracy: 0.7000\n",
            "Epoch 117/200\n",
            "2/2 [==============================] - 0s 51ms/step - loss: 0.2430 - accuracy: 0.9125 - val_loss: 1.2921 - val_accuracy: 0.6500\n",
            "Epoch 118/200\n",
            "2/2 [==============================] - 0s 56ms/step - loss: 0.2306 - accuracy: 0.9000 - val_loss: 1.3599 - val_accuracy: 0.6000\n",
            "Epoch 119/200\n",
            "2/2 [==============================] - 0s 47ms/step - loss: 0.2670 - accuracy: 0.9125 - val_loss: 1.2071 - val_accuracy: 0.7000\n",
            "Epoch 120/200\n",
            "2/2 [==============================] - 0s 49ms/step - loss: 0.2284 - accuracy: 0.8875 - val_loss: 1.1384 - val_accuracy: 0.7000\n",
            "Epoch 121/200\n",
            "2/2 [==============================] - 0s 51ms/step - loss: 0.2290 - accuracy: 0.8875 - val_loss: 1.1064 - val_accuracy: 0.7000\n",
            "Epoch 122/200\n",
            "2/2 [==============================] - 0s 54ms/step - loss: 0.2305 - accuracy: 0.8750 - val_loss: 1.3285 - val_accuracy: 0.6500\n",
            "Epoch 123/200\n",
            "2/2 [==============================] - 0s 52ms/step - loss: 0.2370 - accuracy: 0.9125 - val_loss: 1.2087 - val_accuracy: 0.7000\n",
            "Epoch 124/200\n",
            "2/2 [==============================] - 0s 49ms/step - loss: 0.2243 - accuracy: 0.8875 - val_loss: 1.1642 - val_accuracy: 0.7000\n",
            "Epoch 125/200\n",
            "2/2 [==============================] - 0s 49ms/step - loss: 0.2252 - accuracy: 0.9000 - val_loss: 1.3726 - val_accuracy: 0.6500\n",
            "Epoch 126/200\n",
            "2/2 [==============================] - 0s 48ms/step - loss: 0.2378 - accuracy: 0.9000 - val_loss: 1.2116 - val_accuracy: 0.7000\n",
            "Epoch 127/200\n",
            "2/2 [==============================] - 0s 50ms/step - loss: 0.2196 - accuracy: 0.8875 - val_loss: 1.2499 - val_accuracy: 0.7000\n",
            "Epoch 128/200\n",
            "2/2 [==============================] - 0s 55ms/step - loss: 0.2225 - accuracy: 0.9000 - val_loss: 1.2483 - val_accuracy: 0.7000\n",
            "Epoch 129/200\n",
            "2/2 [==============================] - 0s 53ms/step - loss: 0.2161 - accuracy: 0.8875 - val_loss: 1.2261 - val_accuracy: 0.7000\n",
            "Epoch 130/200\n",
            "2/2 [==============================] - 0s 53ms/step - loss: 0.2112 - accuracy: 0.9000 - val_loss: 1.4898 - val_accuracy: 0.6000\n",
            "Epoch 131/200\n",
            "2/2 [==============================] - 0s 48ms/step - loss: 0.2705 - accuracy: 0.8750 - val_loss: 1.2973 - val_accuracy: 0.6500\n",
            "Epoch 132/200\n",
            "2/2 [==============================] - 0s 48ms/step - loss: 0.2312 - accuracy: 0.9125 - val_loss: 1.1952 - val_accuracy: 0.7000\n",
            "Epoch 133/200\n",
            "2/2 [==============================] - 0s 49ms/step - loss: 0.2498 - accuracy: 0.9000 - val_loss: 1.1073 - val_accuracy: 0.7000\n",
            "Epoch 134/200\n",
            "2/2 [==============================] - 0s 52ms/step - loss: 0.2497 - accuracy: 0.8875 - val_loss: 1.0969 - val_accuracy: 0.7000\n",
            "Epoch 135/200\n",
            "2/2 [==============================] - 0s 47ms/step - loss: 0.2207 - accuracy: 0.9250 - val_loss: 1.6606 - val_accuracy: 0.5500\n",
            "Epoch 136/200\n",
            "2/2 [==============================] - 0s 48ms/step - loss: 0.3597 - accuracy: 0.8250 - val_loss: 1.0923 - val_accuracy: 0.7500\n",
            "Epoch 137/200\n",
            "2/2 [==============================] - 0s 52ms/step - loss: 0.2935 - accuracy: 0.9000 - val_loss: 0.7673 - val_accuracy: 0.7500\n",
            "Epoch 138/200\n",
            "2/2 [==============================] - 0s 49ms/step - loss: 0.5248 - accuracy: 0.7625 - val_loss: 1.3766 - val_accuracy: 0.5500\n",
            "Epoch 139/200\n",
            "2/2 [==============================] - 0s 47ms/step - loss: 0.3692 - accuracy: 0.8125 - val_loss: 1.2671 - val_accuracy: 0.6000\n",
            "Epoch 140/200\n",
            "2/2 [==============================] - 0s 48ms/step - loss: 0.2866 - accuracy: 0.8500 - val_loss: 0.7159 - val_accuracy: 0.7500\n",
            "Epoch 141/200\n",
            "2/2 [==============================] - 0s 55ms/step - loss: 0.3935 - accuracy: 0.8250 - val_loss: 0.8153 - val_accuracy: 0.7000\n",
            "Epoch 142/200\n",
            "2/2 [==============================] - 0s 48ms/step - loss: 0.2734 - accuracy: 0.9250 - val_loss: 1.2982 - val_accuracy: 0.5500\n",
            "Epoch 143/200\n",
            "2/2 [==============================] - 0s 48ms/step - loss: 0.3909 - accuracy: 0.8000 - val_loss: 1.2166 - val_accuracy: 0.5000\n",
            "Epoch 144/200\n",
            "2/2 [==============================] - 0s 51ms/step - loss: 0.3344 - accuracy: 0.8500 - val_loss: 0.8160 - val_accuracy: 0.7500\n",
            "Epoch 145/200\n",
            "2/2 [==============================] - 0s 48ms/step - loss: 0.2900 - accuracy: 0.8875 - val_loss: 0.8546 - val_accuracy: 0.7500\n",
            "Epoch 146/200\n",
            "2/2 [==============================] - 0s 48ms/step - loss: 0.2971 - accuracy: 0.8625 - val_loss: 1.0501 - val_accuracy: 0.7000\n",
            "Epoch 147/200\n",
            "2/2 [==============================] - 0s 47ms/step - loss: 0.2327 - accuracy: 0.8875 - val_loss: 1.0253 - val_accuracy: 0.7000\n",
            "Epoch 148/200\n",
            "2/2 [==============================] - 0s 55ms/step - loss: 0.2321 - accuracy: 0.9125 - val_loss: 1.0592 - val_accuracy: 0.7000\n",
            "Epoch 149/200\n",
            "2/2 [==============================] - 0s 52ms/step - loss: 0.2357 - accuracy: 0.8750 - val_loss: 1.1592 - val_accuracy: 0.7000\n",
            "Epoch 150/200\n",
            "2/2 [==============================] - 0s 55ms/step - loss: 0.2189 - accuracy: 0.9125 - val_loss: 1.1949 - val_accuracy: 0.7000\n",
            "Epoch 151/200\n",
            "2/2 [==============================] - 0s 49ms/step - loss: 0.2251 - accuracy: 0.9000 - val_loss: 1.2312 - val_accuracy: 0.7000\n",
            "Epoch 152/200\n",
            "2/2 [==============================] - 0s 49ms/step - loss: 0.2213 - accuracy: 0.9000 - val_loss: 1.2154 - val_accuracy: 0.7000\n",
            "Epoch 153/200\n",
            "2/2 [==============================] - 0s 49ms/step - loss: 0.2302 - accuracy: 0.9000 - val_loss: 1.2816 - val_accuracy: 0.7000\n",
            "Epoch 154/200\n",
            "2/2 [==============================] - 0s 50ms/step - loss: 0.2173 - accuracy: 0.9000 - val_loss: 1.2642 - val_accuracy: 0.7000\n",
            "Epoch 155/200\n",
            "2/2 [==============================] - 0s 48ms/step - loss: 0.2251 - accuracy: 0.9000 - val_loss: 1.3907 - val_accuracy: 0.6500\n",
            "Epoch 156/200\n",
            "2/2 [==============================] - 0s 48ms/step - loss: 0.2538 - accuracy: 0.9000 - val_loss: 1.2799 - val_accuracy: 0.7000\n",
            "Epoch 157/200\n",
            "2/2 [==============================] - 0s 50ms/step - loss: 0.2337 - accuracy: 0.9000 - val_loss: 1.0657 - val_accuracy: 0.7500\n",
            "Epoch 158/200\n",
            "2/2 [==============================] - 0s 50ms/step - loss: 0.2899 - accuracy: 0.8875 - val_loss: 1.4654 - val_accuracy: 0.6000\n",
            "Epoch 159/200\n",
            "2/2 [==============================] - 0s 51ms/step - loss: 0.2517 - accuracy: 0.8750 - val_loss: 1.5987 - val_accuracy: 0.6000\n",
            "Epoch 160/200\n",
            "2/2 [==============================] - 0s 48ms/step - loss: 0.2945 - accuracy: 0.8375 - val_loss: 1.1163 - val_accuracy: 0.7500\n",
            "Epoch 161/200\n",
            "2/2 [==============================] - 0s 53ms/step - loss: 0.2463 - accuracy: 0.9000 - val_loss: 1.1001 - val_accuracy: 0.7500\n",
            "Epoch 162/200\n",
            "2/2 [==============================] - 0s 57ms/step - loss: 0.2385 - accuracy: 0.8875 - val_loss: 1.3825 - val_accuracy: 0.6000\n",
            "Epoch 163/200\n",
            "2/2 [==============================] - 0s 49ms/step - loss: 0.2352 - accuracy: 0.9000 - val_loss: 1.3166 - val_accuracy: 0.6500\n",
            "Epoch 164/200\n",
            "2/2 [==============================] - 0s 47ms/step - loss: 0.2241 - accuracy: 0.9000 - val_loss: 1.1589 - val_accuracy: 0.7000\n",
            "Epoch 165/200\n",
            "2/2 [==============================] - 0s 57ms/step - loss: 0.2211 - accuracy: 0.8875 - val_loss: 1.2332 - val_accuracy: 0.7000\n",
            "Epoch 166/200\n",
            "2/2 [==============================] - 0s 49ms/step - loss: 0.2083 - accuracy: 0.9000 - val_loss: 1.3169 - val_accuracy: 0.6500\n",
            "Epoch 167/200\n",
            "2/2 [==============================] - 0s 51ms/step - loss: 0.2048 - accuracy: 0.9125 - val_loss: 1.2921 - val_accuracy: 0.7000\n",
            "Epoch 168/200\n",
            "2/2 [==============================] - 0s 48ms/step - loss: 0.2038 - accuracy: 0.9000 - val_loss: 1.1780 - val_accuracy: 0.7500\n",
            "Epoch 169/200\n",
            "2/2 [==============================] - 0s 52ms/step - loss: 0.2447 - accuracy: 0.8875 - val_loss: 1.2251 - val_accuracy: 0.7500\n",
            "Epoch 170/200\n",
            "2/2 [==============================] - 0s 54ms/step - loss: 0.2397 - accuracy: 0.8875 - val_loss: 1.5296 - val_accuracy: 0.6000\n",
            "Epoch 171/200\n",
            "2/2 [==============================] - 0s 48ms/step - loss: 0.2126 - accuracy: 0.9250 - val_loss: 1.5394 - val_accuracy: 0.6000\n",
            "Epoch 172/200\n",
            "2/2 [==============================] - 0s 48ms/step - loss: 0.2132 - accuracy: 0.9250 - val_loss: 1.3487 - val_accuracy: 0.7000\n",
            "Epoch 173/200\n",
            "2/2 [==============================] - 0s 55ms/step - loss: 0.1975 - accuracy: 0.9000 - val_loss: 1.2884 - val_accuracy: 0.7000\n",
            "Epoch 174/200\n",
            "2/2 [==============================] - 0s 47ms/step - loss: 0.2010 - accuracy: 0.9000 - val_loss: 1.3932 - val_accuracy: 0.6500\n",
            "Epoch 175/200\n",
            "2/2 [==============================] - 0s 50ms/step - loss: 0.1997 - accuracy: 0.9125 - val_loss: 1.4325 - val_accuracy: 0.6500\n",
            "Epoch 176/200\n",
            "2/2 [==============================] - 0s 50ms/step - loss: 0.2038 - accuracy: 0.9250 - val_loss: 1.3784 - val_accuracy: 0.7000\n",
            "Epoch 177/200\n",
            "2/2 [==============================] - 0s 49ms/step - loss: 0.1939 - accuracy: 0.9000 - val_loss: 1.4108 - val_accuracy: 0.7000\n",
            "Epoch 178/200\n",
            "2/2 [==============================] - 0s 50ms/step - loss: 0.1907 - accuracy: 0.9000 - val_loss: 1.4541 - val_accuracy: 0.7000\n",
            "Epoch 179/200\n",
            "2/2 [==============================] - 0s 50ms/step - loss: 0.1893 - accuracy: 0.9125 - val_loss: 1.6189 - val_accuracy: 0.6000\n",
            "Epoch 180/200\n",
            "2/2 [==============================] - 0s 51ms/step - loss: 0.2013 - accuracy: 0.9250 - val_loss: 1.6041 - val_accuracy: 0.6500\n",
            "Epoch 181/200\n",
            "2/2 [==============================] - 0s 57ms/step - loss: 0.1958 - accuracy: 0.9250 - val_loss: 1.4697 - val_accuracy: 0.7000\n",
            "Epoch 182/200\n",
            "2/2 [==============================] - 0s 56ms/step - loss: 0.2076 - accuracy: 0.9000 - val_loss: 1.8484 - val_accuracy: 0.6000\n",
            "Epoch 183/200\n",
            "2/2 [==============================] - 0s 56ms/step - loss: 0.2522 - accuracy: 0.9000 - val_loss: 1.9913 - val_accuracy: 0.5500\n",
            "Epoch 184/200\n",
            "2/2 [==============================] - 0s 52ms/step - loss: 0.2929 - accuracy: 0.8375 - val_loss: 1.1806 - val_accuracy: 0.7500\n",
            "Epoch 185/200\n",
            "2/2 [==============================] - 0s 59ms/step - loss: 0.2718 - accuracy: 0.8750 - val_loss: 1.0008 - val_accuracy: 0.7500\n",
            "Epoch 186/200\n",
            "2/2 [==============================] - 0s 61ms/step - loss: 0.3251 - accuracy: 0.8500 - val_loss: 1.4050 - val_accuracy: 0.6500\n",
            "Epoch 187/200\n",
            "2/2 [==============================] - 0s 57ms/step - loss: 0.2093 - accuracy: 0.9000 - val_loss: 1.7403 - val_accuracy: 0.6000\n",
            "Epoch 188/200\n",
            "2/2 [==============================] - 0s 58ms/step - loss: 0.2918 - accuracy: 0.8500 - val_loss: 1.4046 - val_accuracy: 0.7000\n",
            "Epoch 189/200\n",
            "2/2 [==============================] - 0s 60ms/step - loss: 0.2086 - accuracy: 0.8875 - val_loss: 1.2757 - val_accuracy: 0.7500\n",
            "Epoch 190/200\n",
            "2/2 [==============================] - 0s 77ms/step - loss: 0.2200 - accuracy: 0.8875 - val_loss: 1.5577 - val_accuracy: 0.6500\n",
            "Epoch 191/200\n",
            "2/2 [==============================] - 0s 73ms/step - loss: 0.1988 - accuracy: 0.9125 - val_loss: 1.5623 - val_accuracy: 0.6500\n",
            "Epoch 192/200\n",
            "2/2 [==============================] - 0s 73ms/step - loss: 0.1917 - accuracy: 0.9125 - val_loss: 1.3640 - val_accuracy: 0.7000\n",
            "Epoch 193/200\n",
            "2/2 [==============================] - 0s 72ms/step - loss: 0.2053 - accuracy: 0.9250 - val_loss: 1.5369 - val_accuracy: 0.6500\n",
            "Epoch 194/200\n",
            "2/2 [==============================] - 0s 85ms/step - loss: 0.1799 - accuracy: 0.9125 - val_loss: 1.8504 - val_accuracy: 0.6000\n",
            "Epoch 195/200\n",
            "2/2 [==============================] - 0s 52ms/step - loss: 0.2569 - accuracy: 0.8875 - val_loss: 1.6723 - val_accuracy: 0.6500\n",
            "Epoch 196/200\n",
            "2/2 [==============================] - 0s 52ms/step - loss: 0.1864 - accuracy: 0.9250 - val_loss: 1.3728 - val_accuracy: 0.7000\n",
            "Epoch 197/200\n",
            "2/2 [==============================] - 0s 71ms/step - loss: 0.2161 - accuracy: 0.9125 - val_loss: 1.3492 - val_accuracy: 0.7000\n",
            "Epoch 198/200\n",
            "2/2 [==============================] - 0s 84ms/step - loss: 0.2356 - accuracy: 0.8750 - val_loss: 1.5165 - val_accuracy: 0.7000\n",
            "Epoch 199/200\n",
            "2/2 [==============================] - 0s 67ms/step - loss: 0.1835 - accuracy: 0.9000 - val_loss: 1.4905 - val_accuracy: 0.7000\n",
            "Epoch 200/200\n",
            "2/2 [==============================] - 0s 91ms/step - loss: 0.1839 - accuracy: 0.9000 - val_loss: 1.4532 - val_accuracy: 0.7000\n"
          ]
        }
      ]
    },
    {
      "cell_type": "code",
      "source": [
        "import matplotlib.pyplot\n",
        "\n",
        "plt.plot(history.history['accuracy']);\n",
        "plt.plot(history.history['val_accuracy']);"
      ],
      "metadata": {
        "colab": {
          "base_uri": "https://localhost:8080/",
          "height": 265
        },
        "id": "QarfMNyonCd6",
        "outputId": "1277e17a-7054-4294-e776-03dbe7c751c5"
      },
      "execution_count": 56,
      "outputs": [
        {
          "output_type": "display_data",
          "data": {
            "image/png": "[encoded data removed]",
            "text/plain": [
              "<Figure size 432x288 with 1 Axes>"
            ]
          },
          "metadata": {
            "needs_background": "light"
          }
        }
      ]
    },
    {
      "cell_type": "code",
      "source": [
        ""
      ],
      "metadata": {
        "id": "9iT3QA4WnJFq"
      },
      "execution_count": null,
      "outputs": []
    }
  ]
}